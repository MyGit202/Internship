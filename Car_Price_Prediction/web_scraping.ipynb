{
 "cells": [
  {
   "cell_type": "code",
   "execution_count": 4,
   "metadata": {},
   "outputs": [],
   "source": [
    "# Importing Libraries\n",
    "import selenium\n",
    "import pandas as pd\n",
    "import time\n",
    "import warnings\n",
    "warnings.filterwarnings(\"ignore\")\n",
    "\n",
    "# Importing selenium webdriver \n",
    "from selenium import webdriver\n",
    "# Importing user input \n",
    "user_inp=input\n",
    "\n",
    "# Importing required Exceptions which needs to handled\n",
    "from selenium.common.exceptions import StaleElementReferenceException, NoSuchElementException\n",
    "from selenium.common.exceptions import ElementNotInteractableException\n",
    "\n",
    "#Activating the chrome browser\n",
    "driver = webdriver.Chrome(\"chromedriver.exe\")\n",
    "time.sleep(3)\n",
    "\n",
    "#opening the home page of https:www.cars24.com/\n",
    "url=(\"http://www.cardekho.com\")\n",
    "driver.get(url)\n",
    "time.sleep(3)"
   ]
  },
  {
   "cell_type": "code",
   "execution_count": 6,
   "metadata": {},
   "outputs": [
    {
     "name": "stdout",
     "output_type": "stream",
     "text": [
      "Enter the name of the cityPune\n"
     ]
    }
   ],
   "source": [
    "# Importing user input \n",
    "user_inp=input\n",
    "\n",
    "#enter the input to search the keywords.\n",
    "user_inp_city=input('Enter the name of the city')\n",
    "\n",
    "search_job=driver.find_element_by_id('cardekhosearchtext')      #locating searc_bar by id\n",
    "search_job.clear()                                                 #Clearing search_bar\n",
    "search_job.send_keys(user_inp_city)                               #sending user input to search bar\n",
    "time.sleep(4)\n",
    "search_button=driver.find_element_by_xpath('//li[@class=\"gs_ta_choice active\"]')      #locating search_button by xpath\n",
    "search_button.click()"
   ]
  },
  {
   "cell_type": "code",
   "execution_count": 7,
   "metadata": {},
   "outputs": [
    {
     "name": "stdout",
     "output_type": "stream",
     "text": [
      "DataFrame is written to Excel File successfully.\n"
     ]
    }
   ],
   "source": [
    "# Creating empty list\n",
    "used_cars = {}\n",
    "used_cars[\"Model\"] = []\n",
    "used_cars[\"Brand\"] = []\n",
    "used_cars[\"Variant\"] = []\n",
    "used_cars[\"Manufacturing_year\"] = []\n",
    "used_cars[\"Driven_km\"] = []\n",
    "used_cars[\"Fuel_type\"] = []\n",
    "used_cars[\"Transmission\"] = []\n",
    "used_cars[\"Selling_Price\"] = []\n",
    "\n",
    "time.sleep(3)\n",
    "for i in range(0,1):\n",
    "    try:\n",
    "        # Model\n",
    "        model = driver.find_elements_by_xpath('//div[@class=\"gsc_col-xs-7 carsName\"]/a[1]'.format(i))\n",
    "        for m in model:\n",
    "            used_cars[\"Model\"].append(m.text.split()[2:])\n",
    "        \n",
    "        # Brand \n",
    "        brand = driver.find_elements_by_xpath('//div[@class=\"gsc_col-xs-7 carsName\"]/a[1]'.format(i))\n",
    "        for b in brand:\n",
    "            used_cars[\"Brand\"].append(b.text.split()[1:2]) \n",
    "            \n",
    "        # Variants\n",
    "        variant = driver.find_elements_by_xpath('//div[@class=\"gsc_col-xs-7 carsName\"]/div[1]'.format(i))\n",
    "        for v in variant:\n",
    "            used_cars[\"Variant\"].append(v.text)\n",
    "        \n",
    "        # manufacturing year\n",
    "        manuf_year = driver.find_elements_by_xpath('//div[@class=\"gsc_col-xs-7 carsName\"]/a[1]'.format(i))\n",
    "        for my in manuf_year:\n",
    "            used_cars[\"Manufacturing_year\"].append(my.text.split()[:1])\n",
    "            \n",
    "         # Driven Kilometers\n",
    "        driven_km = driver.find_elements_by_xpath('//div[@class=\"gsc_col-xs-7 carsName\"]/div[2]/span[1]'.format(i))\n",
    "        for d in driven_km:\n",
    "            used_cars[\"Driven_km\"].append(d.text)\n",
    "        \n",
    "        # Fuel type\n",
    "        fuel_type = driver.find_elements_by_xpath('//div[@class=\"gsc_col-xs-7 carsName\"]/div[2]/span[2]'.format(i))\n",
    "        for f in fuel_type:\n",
    "            used_cars[\"Fuel_type\"].append(f.text) \n",
    "            \n",
    "        \n",
    "        # Transmission\n",
    "        transmission = driver.find_elements_by_xpath('//div[@class=\"gsc_col-xs-7 carsName\"]/div[2]/span[3]'.format(i))\n",
    "        for t in transmission:\n",
    "            used_cars[\"Transmission\"].append(t.text)\n",
    "                 \n",
    "        \n",
    "        # Selling Price\n",
    "        selling_Price = driver.find_elements_by_xpath('//div[@class=\"price gsc_col-xs-5 text-right\"]/span[1]'.format(i))\n",
    "        for sp in selling_Price:\n",
    "            used_cars[\"Selling_Price\"].append(sp.text)       \n",
    "            \n",
    "    except NoSuchElementException:\n",
    "        used_cars[\"Model\"].append('-')\n",
    "        used_cars[\"Brand\"].append('-')\n",
    "        used_cars[\"Variant\"].append('-')\n",
    "        used_cars[\"Manufacturing_year\"].append('-')\n",
    "        used_cars[\"Driven_km\"].append('-')\n",
    "        used_cars[\"Fuel_type\"].append('-')\n",
    "        used_cars[\"Transmission\"].append('-')\n",
    "        used_cars[\"Selling_Price\"].append('-')\n",
    "        \n",
    "time.sleep(3)\n",
    "# Make dataframe\n",
    "Usedcars = pd.DataFrame(used_cars)\n",
    "Usedcars\n",
    "\n",
    "# determining the name of the file\n",
    "file_name = 'usedcars.xlsx'\n",
    "  \n",
    "# saving the excel\n",
    "Usedcars.to_excel(file_name)\n",
    "print('DataFrame is written to Excel File successfully.')"
   ]
  },
  {
   "cell_type": "code",
   "execution_count": null,
   "metadata": {},
   "outputs": [],
   "source": []
  }
 ],
 "metadata": {
  "kernelspec": {
   "display_name": "Python 3",
   "language": "python",
   "name": "python3"
  },
  "language_info": {
   "codemirror_mode": {
    "name": "ipython",
    "version": 3
   },
   "file_extension": ".py",
   "mimetype": "text/x-python",
   "name": "python",
   "nbconvert_exporter": "python",
   "pygments_lexer": "ipython3",
   "version": "3.8.8"
  }
 },
 "nbformat": 4,
 "nbformat_minor": 4
}
