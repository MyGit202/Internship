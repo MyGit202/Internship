{
 "cells": [
  {
   "cell_type": "markdown",
   "metadata": {},
   "source": [
    "# Q11.Sol.:-Python Program to find the Factorial of a Number"
   ]
  },
  {
   "cell_type": "code",
   "execution_count": 18,
   "metadata": {},
   "outputs": [
    {
     "name": "stdout",
     "output_type": "stream",
     "text": [
      "Enter the factorial Number = 15\n",
      "Factorial number is = 1307674368000\n"
     ]
    }
   ],
   "source": [
    "fact=int(input(\"Enter the factorial Number = \"))\n",
    "fac=1\n",
    "while fact>0:\n",
    "    fac=fac*fact\n",
    "    fact=fact-1\n",
    "print(\"Factorial number is =\",fac)"
   ]
  },
  {
   "cell_type": "markdown",
   "metadata": {},
   "source": [
    "# Q12.Sol.:-Python Program to find whether a Number is Prime or Composite"
   ]
  },
  {
   "cell_type": "code",
   "execution_count": 19,
   "metadata": {},
   "outputs": [
    {
     "name": "stdout",
     "output_type": "stream",
     "text": [
      "Enter Number = 5\n",
      "Prime Number\n"
     ]
    }
   ],
   "source": [
    "# This is the Program to get output of Prime Number.\n",
    "\n",
    "Prime=int(input(\"Enter Number = \"))\n",
    "count=0\n",
    "i=1\n",
    "while (i<=Prime):\n",
    "    if (Prime%i==0):\n",
    "        count=count+1\n",
    "    i=i+1\n",
    "if(count==2):\n",
    "    print(\"Prime Number\")\n",
    "else:\n",
    "    print(\"Composite Number\")"
   ]
  },
  {
   "cell_type": "code",
   "execution_count": 20,
   "metadata": {},
   "outputs": [
    {
     "name": "stdout",
     "output_type": "stream",
     "text": [
      "Enter Number = 4\n",
      "This is the composite Number\n"
     ]
    }
   ],
   "source": [
    "# This is the Program to get output of Composite number.\n",
    "\n",
    "Comp=int(input(\"Enter Number = \"))\n",
    "count=0\n",
    "i=1\n",
    "while (i<=Comp):\n",
    "    if (Comp%i==0):\n",
    "        count=count+1\n",
    "    i=i+1\n",
    "if(count==2):\n",
    "    print(\"Prime Number\")\n",
    "else:\n",
    "    print(\"This is the composite Number\")"
   ]
  },
  {
   "cell_type": "markdown",
   "metadata": {},
   "source": [
    "# Q13.Sol.:-Write a python program to check whether a given string is palindrome or not"
   ]
  },
  {
   "cell_type": "code",
   "execution_count": 29,
   "metadata": {},
   "outputs": [
    {
     "name": "stdout",
     "output_type": "stream",
     "text": [
      "Enter String madam\n",
      "Palindrome\n"
     ]
    }
   ],
   "source": [
    "# output comes with \"Palindrome\"\n",
    "\n",
    "a=input(\"Enter String \")\n",
    "b=a[::-1]\n",
    "\n",
    "if(a==b):\n",
    "    print(\"Palindrome\")\n",
    "else:\n",
    "    print(\"Not Palindrome\")"
   ]
  },
  {
   "cell_type": "code",
   "execution_count": 30,
   "metadata": {},
   "outputs": [
    {
     "name": "stdout",
     "output_type": "stream",
     "text": [
      "Enter String Ajeet\n",
      "Not Palindrome\n"
     ]
    }
   ],
   "source": [
    "# Q13:-Python Program to check whether a given string is palindrome or not\n",
    "# output comes with \"not Palindrome\"\n",
    "a=input(\"Enter String \")\n",
    "b=a[::-1]\n",
    "\n",
    "if(a==b):\n",
    "    print(\"Palindrome\")\n",
    "else:\n",
    "    print(\"Not Palindrome\")"
   ]
  },
  {
   "cell_type": "markdown",
   "metadata": {},
   "source": [
    "# Q14.Sol.:-Write a Python program to get the third side of right-angled triangle from two given sides"
   ]
  },
  {
   "cell_type": "code",
   "execution_count": 31,
   "metadata": {},
   "outputs": [
    {
     "name": "stdout",
     "output_type": "stream",
     "text": [
      "side a is : 7\n",
      "side b is : 5\n",
      "The hypotenuse side is  7.745966692414834\n"
     ]
    }
   ],
   "source": [
    "a=float(input(\"side a is : \"))\n",
    "b=float(input(\"side b is : \"))\n",
    "              \n",
    "h=sqrt(a*b+b**2)\n",
    "print(\"The hypotenuse side is \",h)"
   ]
  },
  {
   "cell_type": "markdown",
   "metadata": {},
   "source": [
    "# Q15.Sol.:-Write a python program to print the frequency of each of the characters present in a given string"
   ]
  },
  {
   "cell_type": "code",
   "execution_count": 32,
   "metadata": {},
   "outputs": [
    {
     "name": "stdout",
     "output_type": "stream",
     "text": [
      "Enter the string = Aaajjjjjeeeettttahsjed\n",
      "{'A': 1, 'a': 3, 'j': 6, 'e': 5, 't': 4, 'h': 1, 's': 1, 'd': 1}\n"
     ]
    }
   ],
   "source": [
    "# Q15:- Python Program to Print the frequency of each of the characters present in a given string.\n",
    "\n",
    "str1 = input (\"Enter the string = \")\n",
    "d1 = dict()\n",
    "for c in str1:\n",
    "    if c in d1:\n",
    "        d1[c] = d1[c] + 1\n",
    "    else:\n",
    "        d1[c] = 1\n",
    "print (d1)"
   ]
  },
  {
   "cell_type": "code",
   "execution_count": null,
   "metadata": {},
   "outputs": [],
   "source": []
  }
 ],
 "metadata": {
  "kernelspec": {
   "display_name": "Python 3",
   "language": "python",
   "name": "python3"
  },
  "language_info": {
   "codemirror_mode": {
    "name": "ipython",
    "version": 3
   },
   "file_extension": ".py",
   "mimetype": "text/x-python",
   "name": "python",
   "nbconvert_exporter": "python",
   "pygments_lexer": "ipython3",
   "version": "3.8.5"
  }
 },
 "nbformat": 4,
 "nbformat_minor": 4
}
